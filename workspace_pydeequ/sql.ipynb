{
 "metadata": {
  "language_info": {
   "codemirror_mode": {
    "name": "ipython",
    "version": 3
   },
   "file_extension": ".py",
   "mimetype": "text/x-python",
   "name": "python",
   "nbconvert_exporter": "python",
   "pygments_lexer": "ipython3",
   "version": "3.6.14"
  },
  "orig_nbformat": 4,
  "kernelspec": {
   "name": "python3",
   "display_name": "Python 3.6.14 64-bit ('.venv': poetry)"
  },
  "interpreter": {
   "hash": "48066454c36ec3815533a63ea1d84b6ff27b4aea45adf83bf618798fa11b34c2"
  }
 },
 "nbformat": 4,
 "nbformat_minor": 2,
 "cells": [
  {
   "source": [
    "import sys, os\n",
    "from subprocess import check_output"
   ],
   "cell_type": "code",
   "metadata": {},
   "execution_count": 7,
   "outputs": []
  },
  {
   "cell_type": "code",
   "execution_count": 8,
   "metadata": {},
   "outputs": [],
   "source": [
    "from pyspark.conf import SparkConf\n",
    "from pyspark.sql import SparkSession, Row\n",
    "import pydeequ\n",
    "from pydeequ.checks import Check, CheckLevel\n",
    "from pydeequ.verification import VerificationSuite, VerificationResult"
   ]
  },
  {
   "cell_type": "code",
   "execution_count": 9,
   "metadata": {},
   "outputs": [],
   "source": [
    "spark_conf = SparkConf()\n",
    "spark_conf.setAll(\n",
    "    [\n",
    "        (\"spark.master\", \"spark://master:7077\"),\n",
    "        (\"spark.app.name\", \"PyDeequ\"),\n",
    "        (\"spark.submit.deployMode\", \"client\"),\n",
    "        (\"spark.ui.showConsoleProgress\", \"true\"),\n",
    "        (\"spark.eventLog.enabled\", \"false\"),\n",
    "        (\"spark.driver.bindAddress\", \"0.0.0.0\"),\n",
    "    ]\n",
    ")\n",
    "spark = (SparkSession\n",
    "    .builder\n",
    "    .config(conf=spark_conf)\n",
    "    .config(\"spark.jars.packages\", pydeequ.deequ_maven_coord)\n",
    "    .config(\"spark.jars.excludes\", pydeequ.f2j_maven_coord)\n",
    "    .getOrCreate())"
   ]
  },
  {
   "cell_type": "code",
   "execution_count": 10,
   "metadata": {},
   "outputs": [],
   "source": [
    "df = spark.sparkContext.parallelize([\n",
    "            Row(a=\"foo\", b=1, c=5),\n",
    "            Row(a=\"bar\", b=2, c=6),\n",
    "            Row(a=\"baz\", b=3, c=None)]).toDF()"
   ]
  },
  {
   "cell_type": "code",
   "execution_count": 11,
   "metadata": {},
   "outputs": [
    {
     "output_type": "stream",
     "name": "stdout",
     "text": [
      "+------------+-----------+------------+--------------------+-----------------+--------------------+\n|       check|check_level|check_status|          constraint|constraint_status|  constraint_message|\n+------------+-----------+------------+--------------------+-----------------+--------------------+\n|Review Check|    Warning|     Warning|SizeConstraint(Si...|          Success|                    |\n|Review Check|    Warning|     Warning|MinimumConstraint...|          Failure|Value: 1.0 does n...|\n|Review Check|    Warning|     Warning|CompletenessConst...|          Failure|Value: 0.66666666...|\n|Review Check|    Warning|     Warning|UniquenessConstra...|          Success|                    |\n|Review Check|    Warning|     Warning|ComplianceConstra...|          Success|                    |\n|Review Check|    Warning|     Warning|ComplianceConstra...|          Success|                    |\n+------------+-----------+------------+--------------------+-----------------+--------------------+\n\n"
     ]
    }
   ],
   "source": [
    "check = Check(spark, CheckLevel.Warning, \"Review Check\")\n",
    "\n",
    "checkResult = VerificationSuite(spark) \\\n",
    "    .onData(df) \\\n",
    "    .addCheck(\n",
    "        check.hasSize(lambda x: x >= 3) \\\n",
    "        .hasMin(\"b\", lambda x: x == 0) \\\n",
    "        .isComplete(\"c\")  \\\n",
    "        .isUnique(\"a\")  \\\n",
    "        .isContainedIn(\"a\", [\"foo\", \"bar\", \"baz\"]) \\\n",
    "        .isNonNegative(\"b\")) \\\n",
    "    .run()\n",
    "\n",
    "checkResult_df = VerificationResult.checkResultsAsDataFrame(spark, checkResult)\n",
    "checkResult_df.show()"
   ]
  },
  {
   "cell_type": "code",
   "execution_count": null,
   "metadata": {},
   "outputs": [],
   "source": []
  }
 ]
}