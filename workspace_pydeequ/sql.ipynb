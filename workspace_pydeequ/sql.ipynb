{
 "metadata": {
  "language_info": {
   "codemirror_mode": {
    "name": "ipython",
    "version": 3
   },
   "file_extension": ".py",
   "mimetype": "text/x-python",
   "name": "python",
   "nbconvert_exporter": "python",
   "pygments_lexer": "ipython3",
   "version": "3.6.14"
  },
  "orig_nbformat": 4,
  "kernelspec": {
   "name": "python3",
   "display_name": "Python 3.6.14 64-bit ('.venv': poetry)"
  },
  "interpreter": {
   "hash": "48066454c36ec3815533a63ea1d84b6ff27b4aea45adf83bf618798fa11b34c2"
  }
 },
 "nbformat": 4,
 "nbformat_minor": 2,
 "cells": [
  {
   "cell_type": "code",
   "execution_count": 1,
   "source": [
    "from pathlib import Path\n",
    "import os"
   ],
   "outputs": [],
   "metadata": {}
  },
  {
   "cell_type": "code",
   "execution_count": 2,
   "source": [
    "Path().resolve()"
   ],
   "outputs": [
    {
     "output_type": "execute_result",
     "data": {
      "text/plain": [
       "PosixPath('/workspace/workspace_pydeequ')"
      ]
     },
     "metadata": {},
     "execution_count": 2
    }
   ],
   "metadata": {}
  },
  {
   "cell_type": "code",
   "execution_count": 3,
   "source": [
    "from pyspark.conf import SparkConf\n",
    "from pyspark.sql import SparkSession\n",
    "from pydeequ.checks import Check, CheckLevel\n",
    "from pydeequ.verification import VerificationSuite, VerificationResult"
   ],
   "outputs": [
    {
     "output_type": "stream",
     "name": "stderr",
     "text": [
      "Deequ is still not supported in spark version: 3.1.2\n"
     ]
    }
   ],
   "metadata": {}
  },
  {
   "cell_type": "code",
   "execution_count": 4,
   "source": [
    "spark_conf = SparkConf()\n",
    "spark_conf.setAll(\n",
    "    [\n",
    "        (\"spark.master\", \"spark://master:7077\"),\n",
    "        (\"spark.app.name\", \"PyDeequ\"),\n",
    "        (\"spark.submit.deployMode\", \"client\"),\n",
    "        (\"spark.ui.showConsoleProgress\", \"true\"),\n",
    "        (\"spark.eventLog.enabled\", \"false\"),\n",
    "        (\"spark.driver.bindAddress\", \"0.0.0.0\"),\n",
    "        (\n",
    "            \"spark.jars\", \n",
    "            \",\".join([\n",
    "                \"file://{}\".format(os.path.join(Path().resolve(), \"..\", \"tmp\", \"postgresql-42.2.23.jar\")),\n",
    "                \"file://{}\".format(os.path.join(Path().resolve(), \"..\", \"tmp\", \"deequ-2.0.0-spark-3.1.jar\"))\n",
    "            ])\n",
    "        )\n",
    "    ]\n",
    ")\n",
    "spark = (SparkSession\n",
    "    .builder\n",
    "    .config(conf=spark_conf)\n",
    "    .getOrCreate())"
   ],
   "outputs": [],
   "metadata": {}
  },
  {
   "cell_type": "code",
   "execution_count": 5,
   "source": [
    "df = spark.read \\\n",
    "    .format(\"jdbc\") \\\n",
    "    .option(\"url\", \"jdbc:postgresql://{}:5432/{}\".format(os.getenv(\"POSTGRES_HOST\"), os.getenv(\"POSTGRES_DB\"))) \\\n",
    "    .option(\"dbtable\", \"public.demodata\") \\\n",
    "    .option(\"user\", os.getenv(\"POSTGRES_USER\")) \\\n",
    "    .option(\"driver\", \"org.postgresql.Driver\") \\\n",
    "    .load()"
   ],
   "outputs": [],
   "metadata": {}
  },
  {
   "cell_type": "code",
   "execution_count": 6,
   "source": [
    "check = Check(spark, CheckLevel.Warning, \"Review Check\")\n",
    "\n",
    "checkResult = VerificationSuite(spark) \\\n",
    "    .onData(df) \\\n",
    "    .addCheck(\n",
    "        check.hasSize(lambda x: x > 0) \\\n",
    "        .isUnique(\"id\")  \\\n",
    "        .isComplete(\"id\")  \\\n",
    "        .isContainedIn(\"country\", [\"Netherlands\", \"Spain\", \"UK\", \"US\"])) \\\n",
    "    .run()\n",
    "\n",
    "checkResult_df = VerificationResult.checkResultsAsDataFrame(spark, checkResult)\n",
    "checkResult_df.show()"
   ],
   "outputs": [
    {
     "output_type": "stream",
     "name": "stdout",
     "text": [
      "Python Callback server started!\n",
      "+------------+-----------+------------+--------------------+-----------------+------------------+\n",
      "|       check|check_level|check_status|          constraint|constraint_status|constraint_message|\n",
      "+------------+-----------+------------+--------------------+-----------------+------------------+\n",
      "|Review Check|    Warning|     Success|SizeConstraint(Si...|          Success|                  |\n",
      "|Review Check|    Warning|     Success|UniquenessConstra...|          Success|                  |\n",
      "|Review Check|    Warning|     Success|CompletenessConst...|          Success|                  |\n",
      "|Review Check|    Warning|     Success|ComplianceConstra...|          Success|                  |\n",
      "+------------+-----------+------------+--------------------+-----------------+------------------+\n",
      "\n"
     ]
    }
   ],
   "metadata": {}
  },
  {
   "cell_type": "code",
   "execution_count": null,
   "source": [
    "spark.stop()"
   ],
   "outputs": [],
   "metadata": {}
  }
 ]
}